{
 "cells": [
  {
   "cell_type": "markdown",
   "metadata": {},
   "source": [
    "## Datasources\n",
    "\n",
    "1. Database of Interacting Proteins (DIP) [20](http://dip.doe-mbi.ucla.edu/dip/Main.cgi)\n",
    "2. DrugBank [21](http://www.drugbank.ca/)\n",
    "3. Genetic Association Database (GAD) [22](http://geneticassociationdb.nih.gov/)\n",
    "4. UniProt Gene Ontology Annotation (GOA) [23](http://www.ebi.ac.uk/GOA)\n",
    "5. HUGO Gene Nomenclature Committee (HGNC) [24](http://www.genenames.org/)\n",
    "6. HomoloGene [25](http://www.ncbi.nlm.nih.gov/homologene)\n",
    "7. Human Protein Reference Database (HPRD) [26](http://www.hprd.org/)\n",
    "8. InterPro [27](http://www.ebi.ac.uk/interpro/)\n",
    "9. iRefWeb [28](http://wodaklab.org/iRefWeb/)\n",
    "10. Mouse Genome Informatics (MGI) [29](http://www.informatics.jax.org/)\n",
    "11. miRBase [30](http://www.mirbase.org/)\n",
    "12. NCBI Gene [31](http://www.ncbi.nlm.nih.gov/gene)\n",
    "13. Online Mendelian Inheritance in Man (OMIM) [32](http://www.ncbi.nlm.nih.gov/omim)\n",
    "14. PharmGKB [33](http://www.pharmgkb.org/)\n",
    "15. Reactome [34](http://www.reactome.org/)\n",
    "16. Rat Genome Database (RGD) [35](http://rgd.mcw.edu/)\n",
    "17. Transfac [36](http://www.gene-regulation.com/pub/databases.html)\n",
    "18. UniProt [37](http://www.uniprot.org/)"
   ]
  },
  {
   "cell_type": "code",
   "execution_count": null,
   "metadata": {
    "collapsed": true
   },
   "outputs": [],
   "source": []
  }
 ],
 "metadata": {
  "kernelspec": {
   "display_name": "Python 3",
   "language": "python",
   "name": "python3"
  },
  "language_info": {
   "codemirror_mode": {
    "name": "ipython",
    "version": 3
   },
   "file_extension": ".py",
   "mimetype": "text/x-python",
   "name": "python",
   "nbconvert_exporter": "python",
   "pygments_lexer": "ipython3",
   "version": "3.6.3"
  },
  "varInspector": {
   "cols": {
    "lenName": 16,
    "lenType": 16,
    "lenVar": 40
   },
   "kernels_config": {
    "python": {
     "delete_cmd_postfix": "",
     "delete_cmd_prefix": "del ",
     "library": "var_list.py",
     "varRefreshCmd": "print(var_dic_list())"
    },
    "r": {
     "delete_cmd_postfix": ") ",
     "delete_cmd_prefix": "rm(",
     "library": "var_list.r",
     "varRefreshCmd": "cat(var_dic_list()) "
    }
   },
   "types_to_exclude": [
    "module",
    "function",
    "builtin_function_or_method",
    "instance",
    "_Feature"
   ],
   "window_display": false
  }
 },
 "nbformat": 4,
 "nbformat_minor": 2
}
