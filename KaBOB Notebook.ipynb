{
 "cells": [
  {
   "cell_type": "markdown",
   "metadata": {},
   "source": [
    "# KaBOB Notebook"
   ]
  },
  {
   "cell_type": "code",
   "execution_count": 1,
   "metadata": {
    "collapsed": true,
    "init_cell": true
   },
   "outputs": [],
   "source": [
    "from KaBOB_Notebook_Viewers import rule_viewer, ontology_viewer"
   ]
  },
  {
   "cell_type": "markdown",
   "metadata": {},
   "source": [
    "The purpose of this notebook is to record notes about my learning and experiences with [KaBOB][KaBOB]\n",
    "\n",
    "\n",
    "### Representations\n",
    "\n",
    "* OBOs (Open Biological and Biomedical Ontology): Representational foundation\n",
    "* ICE World (Information Content Entity): source database records, schemas, and identifiers. Extended from the Information Artifact Ontology (IAO)\n",
    "* BIO World (Biological Information Entity): representation of biomedical concepts such as biological processes and interactions, diseases and phenotypes, and genes, gene products, and other types of biological sequences\n",
    "\n",
    "![KaBOB Construction](http://media.springernature.com/full/springer-static/image/art%3A10.1186%2Fs12859-015-0559-3/MediaObjects/12859_2015_559_Fig1_HTML.gif)\n",
    "\n",
    "### What are ontologies?\n",
    "\n",
    "Ontologies are symbololic, structural representations of knowledge. They contain the relationships between ideas through relationship triples (subject $\\rightarrow$ predicate $\\rightarrow$ object). KaBOB has 14 core ontologies.\n",
    "\n",
    "\n",
    "### Why Ontologies?\n",
    "\n",
    "\n",
    "* Interoperability\n",
    "* \"Easy\" logical consistency checking\n",
    "* Generalizability\n",
    "* Triples allow for network analysis and SPARQL querying\n",
    "* Internationalized Resource Identifiers (IRI) make classes concrete\n",
    "* Reuse of existing terms limits redundancy\n",
    "\n",
    "[KaBOB]: https://bmcbioinformatics.biomedcentral.com/articles/10.1186/s12859-015-0559-3"
   ]
  },
  {
   "cell_type": "markdown",
   "metadata": {},
   "source": [
    "## Explore the ontologies and rules\n",
    "\n",
    "Below, I've created some tools for exploring the rule schemas that define how KaBOB was created as well as notes/summaries of "
   ]
  },
  {
   "cell_type": "code",
   "execution_count": 2,
   "metadata": {
    "init_cell": true
   },
   "outputs": [
    {
     "data": {
      "application/vnd.jupyter.widget-view+json": {
       "model_id": "db1de602ef7c401cafc2c03645ad6169",
       "version_major": 2,
       "version_minor": 0
      },
      "text/plain": [
       "A Jupyter Widget"
      ]
     },
     "metadata": {},
     "output_type": "display_data"
    }
   ],
   "source": [
    "rule_viewer"
   ]
  },
  {
   "cell_type": "code",
   "execution_count": 3,
   "metadata": {
    "init_cell": true
   },
   "outputs": [
    {
     "data": {
      "application/vnd.jupyter.widget-view+json": {
       "model_id": "a5803d798ddf4299ae10a461bb201431",
       "version_major": 2,
       "version_minor": 0
      },
      "text/plain": [
       "A Jupyter Widget"
      ]
     },
     "metadata": {},
     "output_type": "display_data"
    }
   ],
   "source": [
    "ontology_viewer"
   ]
  },
  {
   "cell_type": "markdown",
   "metadata": {},
   "source": [
    "### Other Notebooks\n",
    "[Datasources](Datasources Notebook.ipynb)\n",
    "[Tools](Tools Notebook.ipynb)"
   ]
  },
  {
   "cell_type": "code",
   "execution_count": null,
   "metadata": {
    "collapsed": true
   },
   "outputs": [],
   "source": []
  }
 ],
 "metadata": {
  "celltoolbar": "Initialization Cell",
  "kernelspec": {
   "display_name": "Python 3",
   "language": "python",
   "name": "python3"
  },
  "language_info": {
   "codemirror_mode": {
    "name": "ipython",
    "version": 3
   },
   "file_extension": ".py",
   "mimetype": "text/x-python",
   "name": "python",
   "nbconvert_exporter": "python",
   "pygments_lexer": "ipython3",
   "version": "3.6.3"
  },
  "varInspector": {
   "cols": {
    "lenName": 16,
    "lenType": 16,
    "lenVar": 40
   },
   "kernels_config": {
    "python": {
     "delete_cmd_postfix": "",
     "delete_cmd_prefix": "del ",
     "library": "var_list.py",
     "varRefreshCmd": "print(var_dic_list())"
    },
    "r": {
     "delete_cmd_postfix": ") ",
     "delete_cmd_prefix": "rm(",
     "library": "var_list.r",
     "varRefreshCmd": "cat(var_dic_list()) "
    }
   },
   "types_to_exclude": [
    "module",
    "function",
    "builtin_function_or_method",
    "instance",
    "_Feature"
   ],
   "window_display": false
  }
 },
 "nbformat": 4,
 "nbformat_minor": 2
}
